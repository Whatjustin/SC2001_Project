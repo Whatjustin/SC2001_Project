{
 "cells": [
  {
   "cell_type": "code",
   "execution_count": 1,
   "id": "e0b71c4e",
   "metadata": {},
   "outputs": [],
   "source": [
    "import networkx as nx\n",
    "import matplotlib.pyplot as plt\n",
    "import random\n",
    "import numpy as np\n",
    "import pandas as pd\n",
    "from timeit import default_timer as timer\n",
    "import heapq\n",
    "\n",
    "import warnings\n",
    "warnings.filterwarnings(\"ignore\")"
   ]
  },
  {
   "cell_type": "markdown",
   "id": "b4aeb1ae",
   "metadata": {},
   "source": [
    "## Project 2a"
   ]
  },
  {
   "cell_type": "code",
   "execution_count": 2,
   "id": "1842b773",
   "metadata": {
    "scrolled": false
   },
   "outputs": [],
   "source": [
    "# project 2a\n",
    "# first we use adjacency matrix, generate adj matrix\n",
    "def generateAdjMatrix(networkxG, x):\n",
    "    temp = nx.adjacency_matrix(networkxG)\n",
    "#     print(temp)\n",
    "    tempC = temp.tocoo()\n",
    "    size = temp.shape[0]\n",
    "    adjMatrix = [[0 for j in range(size)] for i in range(size)]\n",
    "    for i in range(len(tempC.data)):\n",
    "        row, col = tempC.row[i], tempC.col[i]\n",
    "        randomWeight = random.randint(1,x)\n",
    "        adjMatrix[row][col] = randomWeight\n",
    "    return adjMatrix "
   ]
  },
  {
   "cell_type": "code",
   "execution_count": 17,
   "id": "7788c386",
   "metadata": {},
   "outputs": [
    {
     "data": {
      "image/png": "[encoded data removed]",
      "text/plain": [
       "<Figure size 432x288 with 1 Axes>"
      ]
     },
     "metadata": {},
     "output_type": "display_data"
    }
   ],
   "source": [
    "# number of nodes, number of edges, seed, directed=False\n",
    "G_temp = nx.gnm_random_graph(5, 0, 10, False)\n",
    "G = G_temp\n",
    "nx.draw(G)"
   ]
  },
  {
   "cell_type": "code",
   "execution_count": 4,
   "id": "0349a881",
   "metadata": {},
   "outputs": [
    {
     "name": "stdout",
     "output_type": "stream",
     "text": [
      "[[0, 4, 8, 0, 8], [10, 0, 0, 6, 0], [1, 0, 0, 4, 0], [0, 8, 5, 0, 3], [5, 0, 0, 2, 0]]\n"
     ]
    }
   ],
   "source": [
    "adj_matrix = generateAdjMatrix(G, 10)\n",
    "print(adj_matrix)"
   ]
  },
  {
   "cell_type": "markdown",
   "id": "d38c686f",
   "metadata": {},
   "source": [
    "### Implementation"
   ]
  },
  {
   "cell_type": "code",
   "execution_count": 5,
   "id": "87e7acd3",
   "metadata": {},
   "outputs": [],
   "source": [
    "class Graph:\n",
    "    def __init__(self, V, adjMatrix) -> None:\n",
    "        self.size = V\n",
    "        self.adjMatrix = adjMatrix\n",
    "        \n",
    "    def addWeightedEdge(self, v1, v2, weight=1):\n",
    "        if (0 <= v1 < self.size and 0 <= v2 < self.size):\n",
    "            self.adjMatrix[v1][v2] = weight\n",
    "            print(f\"vertex {v1} connected to vertex {v2} with weight {weight}\")\n",
    "            return\n",
    "        print(\"Unsucessful\")\n",
    "\n",
    "class PqElement:\n",
    "    def __init__(self, distanceFromSource, node) -> None:\n",
    "        self.node = node\n",
    "        self.distanceFromSource = distanceFromSource\n",
    "        \n",
    "    def __lt__(self, other):\n",
    "        return self.distanceFromSource < other.distanceFromSource\n",
    "\n",
    "    def __repr__(self):\n",
    "        return f'node: {self.node}, distanceFromSource: {self.distanceFromSource}'\n",
    "\n",
    "class PriorityQueueArray:\n",
    "    def __init__(self) -> None:\n",
    "        self.pq = []\n",
    "    \n",
    "    def __str__(self):\n",
    "        return ' '.join([str(i) for i in self.pq])\n",
    "    \n",
    "    # distance from source == weight\n",
    "    def enqueue(self, data):\n",
    "        self.pq.append(data)\n",
    "    \n",
    "    def isEmpty(self):\n",
    "        return len(self.pq) == 0\n",
    "    \n",
    "    # pop and get min\n",
    "    def delete(self): #O(n)\n",
    "        try:\n",
    "            minVal = 0\n",
    "            for i in range(len(self.pq)):\n",
    "                if self.pq[i].distanceFromSource < self.pq[minVal].distanceFromSource:\n",
    "                    minVal = i\n",
    "            item = self.pq[minVal]\n",
    "            del self.pq[minVal]\n",
    "            return item\n",
    "        except IndexError:\n",
    "            print(\"Error\")\n",
    "        \n",
    "    \n",
    "def dijkstra(graph: Graph, source: int):\n",
    "    d = [float(\"inf\") for i in range(graph.size)]\n",
    "    pi = [None for i in range(graph.size)]\n",
    "    S = [0 for i in range(graph.size)]\n",
    "    \n",
    "    if (not (0 <= source < graph.size)):\n",
    "        print(\"err\")\n",
    "        return\n",
    "    \n",
    "    d[source] = 0\n",
    "    \n",
    "    Q = PriorityQueueArray()\n",
    "    for v in range(graph.size):\n",
    "        toInsert = PqElement(d[v], v)\n",
    "        Q.enqueue(toInsert)\n",
    "\n",
    "    while (not Q.isEmpty()):\n",
    "        cheapest = Q.delete()\n",
    "        u = cheapest.node\n",
    "        S[u] = 1\n",
    "        for v in range(len(graph.adjMatrix)):\n",
    "            if (graph.adjMatrix[u][v] and S[v] != 1 and d[v] > d[u] + graph.adjMatrix[u][v]):\n",
    "                for i in range(len(Q.pq)):\n",
    "                    if (Q.pq[i].node == v):\n",
    "                        del Q.pq[i]\n",
    "                        break\n",
    "                d[v] = d[u] + graph.adjMatrix[u][v]\n",
    "                pi[v] = u\n",
    "                \n",
    "                # insert v into Q according to its d[v]\n",
    "                toInsert = PqElement(d[v], v)\n",
    "                Q.enqueue(toInsert)\n",
    "    \n",
    "    return d, pi, S"
   ]
  },
  {
   "cell_type": "markdown",
   "id": "6e011034",
   "metadata": {},
   "source": [
    "Fix V change density of the graph, density - d = e/(v(v-1))  (total edges/edges of complete graph). note that this is a directed graph, so in reality there are 2 * E edges\n",
    "\n",
    "V - number of nodes\n",
    "total_nodes_explored - how many source nodes to consider"
   ]
  },
  {
   "cell_type": "code",
   "execution_count": 6,
   "id": "e38f565b",
   "metadata": {},
   "outputs": [
    {
     "name": "stdout",
     "output_type": "stream",
     "text": [
      "0.1\n",
      "0.2\n",
      "0.30000000000000004\n",
      "0.4\n",
      "0.5\n",
      "0.6\n",
      "0.7000000000000001\n",
      "0.8\n",
      "0.9\n",
      "1.0\n"
     ]
    }
   ],
   "source": [
    "project2a =[]\n",
    "\n",
    "V = 500\n",
    "# E = how many  edges? 0 <= E <= V(V-1), connected V-1 <= E <= V(V-1)\n",
    "\n",
    "for density in np.arange(0.1, 1.1, 0.1):\n",
    "    # number of nodes, number of edges, seed, directed=False\n",
    "    timeTaken = 0\n",
    "    density = float(density)\n",
    "    print(density)\n",
    "    # pick source node from 0 - 30\n",
    "    total_nodes_explored = 30\n",
    "    for source_node in range(0, total_nodes_explored):\n",
    "        E = int(density * (V) * (V-1))\n",
    "        G_temp = nx.gnm_random_graph(V, E, 10, False)\n",
    "        adj_matrix = generateAdjMatrix(G_temp, V) # graph, maximum weight (1-V)\n",
    "        generatedGraph = Graph(V, adj_matrix)\n",
    "        start = timer()\n",
    "        d, pi, S = dijkstra(generatedGraph, source_node)\n",
    "        timeTaken += (timer() - start)*1000 # in ms\n",
    "    project2a.append([V, E, density, timeTaken/total_nodes_explored])"
   ]
  },
  {
   "cell_type": "code",
   "execution_count": 7,
   "id": "4ed09629",
   "metadata": {
    "scrolled": true
   },
   "outputs": [
    {
     "data": {
      "text/plain": [
       "[[500, 24950, 0.1, 49.79017000000001],\n",
       " [500, 49900, 0.2, 57.90676000000001],\n",
       " [500, 74850, 0.30000000000000004, 60.65211999999973],\n",
       " [500, 99800, 0.4, 70.19234333333321],\n",
       " [500, 124750, 0.5, 73.30900000000065],\n",
       " [500, 149700, 0.6, 66.64299666666787],\n",
       " [500, 174650, 0.7000000000000001, 66.37543333333298],\n",
       " [500, 199600, 0.8, 66.18771333333436],\n",
       " [500, 224550, 0.9, 65.97598666666802],\n",
       " [500, 249500, 1.0, 66.87301333332793]]"
      ]
     },
     "execution_count": 7,
     "metadata": {},
     "output_type": "execute_result"
    }
   ],
   "source": [
    "project2a"
   ]
  },
  {
   "cell_type": "markdown",
   "id": "162ea75c",
   "metadata": {},
   "source": [
    "## Project 2b, using adjacency list and heap"
   ]
  },
  {
   "cell_type": "code",
   "execution_count": 8,
   "id": "bf55c458",
   "metadata": {},
   "outputs": [],
   "source": [
    "def generateAdjList(networkxG, x):\n",
    "    temp = nx.adjacency_matrix(networkxG)\n",
    "#     print(temp)\n",
    "    tempC = temp.tocoo()\n",
    "    size = temp.shape[0]\n",
    "    adjList = [[] for i in range(size)]\n",
    "    for i in range(len(tempC.data)):\n",
    "        row, col = tempC.row[i], tempC.col[i]\n",
    "        randomWeight = random.randint(1,x)\n",
    "        adjList[row].append((col, randomWeight))\n",
    "    return adjList"
   ]
  },
  {
   "cell_type": "code",
   "execution_count": 9,
   "id": "b2b4f92f",
   "metadata": {
    "scrolled": true
   },
   "outputs": [
    {
     "data": {
      "image/png": "[encoded data removed]",
      "text/plain": [
       "<Figure size 432x288 with 1 Axes>"
      ]
     },
     "metadata": {},
     "output_type": "display_data"
    }
   ],
   "source": [
    "# number of nodes, number of edges, seed, directed=False\n",
    "G_temp = nx.gnm_random_graph(5, 6, 10, False)\n",
    "G = G_temp\n",
    "nx.draw(G)"
   ]
  },
  {
   "cell_type": "code",
   "execution_count": 10,
   "id": "ba59c152",
   "metadata": {},
   "outputs": [
    {
     "name": "stdout",
     "output_type": "stream",
     "text": [
      "[[(1, 4), (2, 2), (4, 10)], [(0, 3), (3, 7)], [(0, 9), (3, 3)], [(1, 3), (2, 4), (4, 4)], [(0, 6), (3, 1)]]\n"
     ]
    }
   ],
   "source": [
    "adj_list = generateAdjList(G, 10)\n",
    "print(adj_list)"
   ]
  },
  {
   "cell_type": "markdown",
   "id": "e3da669d",
   "metadata": {},
   "source": [
    "### Implementation"
   ]
  },
  {
   "cell_type": "code",
   "execution_count": 21,
   "id": "a7e86e11",
   "metadata": {},
   "outputs": [],
   "source": [
    "class Graph:\n",
    "    def __init__(self, V, adjList=[]) -> None:\n",
    "        self.size = V\n",
    "        if (adjList == []):\n",
    "            self.adjList = [[] for i in range(V)]\n",
    "        else:\n",
    "            self.adjList = adjList\n",
    "        \n",
    "    def addWeightedEdge(self, v1, v2, weight=1):\n",
    "        if (0 <= v1 < self.size and 0 <= v2 < self.size):\n",
    "            self.adjList[v1].append((v2, weight))\n",
    "            print(f\"vertex {v1} connected to vertex {v2} with weight {weight}\")\n",
    "            return\n",
    "        print(\"Unsucessful\")\n",
    "\n",
    "class PqElement:\n",
    "    def __init__(self, distanceFromSource, node) -> None:\n",
    "        self.node = node\n",
    "        self.distanceFromSource = distanceFromSource\n",
    "        \n",
    "    def __lt__(self, other):\n",
    "        return self.distanceFromSource < other.distanceFromSource\n",
    "\n",
    "    def __repr__(self):\n",
    "        return f'node: {self.node}, distanceFromSource: {self.distanceFromSource}'\n",
    "    \n",
    "def dijkstra(graph: Graph, source: int):\n",
    "    d = [float(\"inf\") for i in range(graph.size)]\n",
    "    pi = [None for i in range(graph.size)]\n",
    "    S = [0 for i in range(graph.size)]\n",
    "    \n",
    "    if (not (0 <= source < graph.size)):\n",
    "        print(\"err\")\n",
    "        return\n",
    "    \n",
    "    d[source] = 0\n",
    "    \n",
    "    Q = []\n",
    "    for v in range(graph.size):\n",
    "        toInsert = PqElement(d[v], v)\n",
    "        heapq.heappush(Q, toInsert)\n",
    "    \n",
    "    while (len(Q)):\n",
    "        cheapest = heapq.heappop(Q) # O(logn)\n",
    "        u = cheapest.node\n",
    "        S[u] = 1\n",
    "        for i in range(len(graph.adjList[u])):\n",
    "            v, weight = graph.adjList[u][i]\n",
    "            if (S[v] != 1 and d[v] > d[u] + weight):\n",
    "                for elem in Q:\n",
    "                    if (elem.node == v):\n",
    "                        Q.remove(elem)\n",
    "                        break\n",
    "                d[v] = d[u] + weight\n",
    "                pi[v] = u\n",
    "                \n",
    "                # insert v into Q according to its d[v]\n",
    "                toInsert = PqElement(d[v], v)\n",
    "                heapq.heappush(Q, toInsert)\n",
    "    \n",
    "    return d, pi, S  "
   ]
  },
  {
   "cell_type": "code",
   "execution_count": 12,
   "id": "f4f61260",
   "metadata": {},
   "outputs": [
    {
     "name": "stdout",
     "output_type": "stream",
     "text": [
      "0.1\n",
      "0.2\n",
      "0.30000000000000004\n",
      "0.4\n",
      "0.5\n",
      "0.6\n",
      "0.7000000000000001\n",
      "0.8\n",
      "0.9\n",
      "1.0\n"
     ]
    }
   ],
   "source": [
    "project2b =[]\n",
    "\n",
    "V = 500\n",
    "# E = how many edges? 0 <= E <= V(V-1), connected V-1 <= E <= V(V-1)\n",
    "\n",
    "for density in np.arange(0.1, 1.1, 0.1):\n",
    "    # number of nodes, number of edges, seed, directed=False\n",
    "    timeTaken = 0\n",
    "    density = float(density)\n",
    "    print(density)\n",
    "    # pick source node from 0 - 30\n",
    "    for source_node in range(0, 30):\n",
    "        E = int(density * (V) * (V-1))\n",
    "        G_temp = nx.gnm_random_graph(V, E, 10, False)\n",
    "        adj_list = generateAdjList(G_temp, V) # graph, maximum weight (1-V)\n",
    "        generatedGraph = Graph(V, adj_list)\n",
    "        start = timer()\n",
    "        d, pi, S = dijkstra(generatedGraph, source_node)\n",
    "        timeTaken += (timer() - start)*1000 # in ms\n",
    "    project2b.append([V, E, density, timeTaken/30])"
   ]
  },
  {
   "cell_type": "code",
   "execution_count": 13,
   "id": "5c84a908",
   "metadata": {},
   "outputs": [
    {
     "data": {
      "text/plain": [
       "[[500, 24950, 0.1, 84.60126000000041],\n",
       " [500, 49900, 0.2, 104.04116333333583],\n",
       " [500, 74850, 0.30000000000000004, 110.601646666665],\n",
       " [500, 99800, 0.4, 123.81335666666473],\n",
       " [500, 124750, 0.5, 123.44101333333317],\n",
       " [500, 149700, 0.6, 126.3465300000026],\n",
       " [500, 174650, 0.7000000000000001, 130.99293333333625],\n",
       " [500, 199600, 0.8, 122.8506833333294],\n",
       " [500, 224550, 0.9, 120.94101333332976],\n",
       " [500, 249500, 1.0, 119.95326666666415]]"
      ]
     },
     "execution_count": 13,
     "metadata": {},
     "output_type": "execute_result"
    }
   ],
   "source": [
    "project2b"
   ]
  }
 ],
 "metadata": {
  "kernelspec": {
   "display_name": "Python 3 (ipykernel)",
   "language": "python",
   "name": "python3"
  },
  "language_info": {
   "codemirror_mode": {
    "name": "ipython",
    "version": 3
   },
   "file_extension": ".py",
   "mimetype": "text/x-python",
   "name": "python",
   "nbconvert_exporter": "python",
   "pygments_lexer": "ipython3",
   "version": "3.9.7"
  },
  "vscode": {
   "interpreter": {
    "hash": "8f8cf99212f81ad0c4765861267244807ee1c18364846cdce387b28994a977ba"
   }
  }
 },
 "nbformat": 4,
 "nbformat_minor": 5
}
