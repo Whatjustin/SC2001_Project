{
 "cells": [
  {
   "cell_type": "code",
   "execution_count": 1,
   "id": "e0b71c4e",
   "metadata": {},
   "outputs": [],
   "source": [
    "import networkx as nx\n",
    "import matplotlib.pyplot as plt\n",
    "import random\n",
    "import numpy as np\n",
    "import pandas as pd\n",
    "from timeit import default_timer as timer\n",
    "import heapq\n",
    "\n",
    "import warnings\n",
    "warnings.filterwarnings(\"ignore\")"
   ]
  },
  {
   "cell_type": "markdown",
   "id": "b4aeb1ae",
   "metadata": {},
   "source": [
    "## Project 2a"
   ]
  },
  {
   "cell_type": "code",
   "execution_count": 2,
   "id": "1842b773",
   "metadata": {
    "scrolled": false
   },
   "outputs": [],
   "source": [
    "# project 2a\n",
    "# first we use adjacency matrix, generate adj matrix\n",
    "def generateAdjMatrix(networkxG, x):\n",
    "    temp = nx.adjacency_matrix(networkxG)\n",
    "#     print(temp)\n",
    "    tempC = temp.tocoo()\n",
    "    size = temp.shape[0]\n",
    "    adjMatrix = [[0 for j in range(size)] for i in range(size)]\n",
    "    for i in range(len(tempC.data)):\n",
    "        row, col = tempC.row[i], tempC.col[i]\n",
    "        randomWeight = random.randint(1,x)\n",
    "        adjMatrix[row][col] = randomWeight\n",
    "    return adjMatrix "
   ]
  },
  {
   "cell_type": "code",
   "execution_count": 24,
   "id": "7788c386",
   "metadata": {},
   "outputs": [
    {
     "data": {
      "image/png": "[encoded data removed]",
      "text/plain": [
       "<Figure size 432x288 with 1 Axes>"
      ]
     },
     "metadata": {},
     "output_type": "display_data"
    }
   ],
   "source": [
    "# number of nodes, number of edges, seed, directed=False\n",
    "G_temp = nx.gnm_random_graph(5, 7, 10, False)\n",
    "G = G_temp\n",
    "nx.draw(G)"
   ]
  },
  {
   "cell_type": "code",
   "execution_count": 25,
   "id": "0349a881",
   "metadata": {},
   "outputs": [
    {
     "name": "stdout",
     "output_type": "stream",
     "text": [
      "[[0, 10, 6, 0, 1], [6, 0, 1, 3, 0], [6, 6, 0, 6, 0], [0, 4, 5, 0, 1], [9, 0, 0, 10, 0]]\n"
     ]
    }
   ],
   "source": [
    "adj_matrix = generateAdjMatrix(G, 10)\n",
    "print(adj_matrix)"
   ]
  },
  {
   "cell_type": "markdown",
   "id": "d38c686f",
   "metadata": {},
   "source": [
    "### Implementation"
   ]
  },
  {
   "cell_type": "code",
   "execution_count": 27,
   "id": "87e7acd3",
   "metadata": {},
   "outputs": [],
   "source": [
    "class Graph:\n",
    "    def __init__(self, V, adjMatrix) -> None:\n",
    "        self.size = V\n",
    "        self.adjMatrix = adjMatrix\n",
    "        \n",
    "    def addWeightedEdge(self, v1, v2, weight=1):\n",
    "        if (0 <= v1 < self.size and 0 <= v2 < self.size):\n",
    "            self.adjMatrix[v1][v2] = weight\n",
    "            print(f\"vertex {v1} connected to vertex {v2} with weight {weight}\")\n",
    "            return\n",
    "        print(\"Unsucessful\")\n",
    "\n",
    "class PqElement:\n",
    "    def __init__(self, distanceFromSource, node) -> None:\n",
    "        self.node = node\n",
    "        self.distanceFromSource = distanceFromSource\n",
    "        \n",
    "    def __lt__(self, other):\n",
    "        return self.distanceFromSource < other.distanceFromSource\n",
    "\n",
    "    def __repr__(self):\n",
    "        return f'node: {self.node}, distanceFromSource: {self.distanceFromSource}'\n",
    "\n",
    "class PriorityQueueArray:\n",
    "    def __init__(self) -> None:\n",
    "        self.pq = []\n",
    "    \n",
    "    def __str__(self):\n",
    "        return ' '.join([str(i) for i in self.pq])\n",
    "    \n",
    "    # distance from source == weight\n",
    "    def enqueue(self, data):\n",
    "        self.pq.append(data)\n",
    "    \n",
    "    def isEmpty(self):\n",
    "        return len(self.pq) == 0\n",
    "    \n",
    "    # pop and get min\n",
    "    def delete(self): #O(n)\n",
    "        try:\n",
    "            minVal = 0\n",
    "            for i in range(len(self.pq)):\n",
    "                if self.pq[i].distanceFromSource < self.pq[minVal].distanceFromSource:\n",
    "                    minVal = i\n",
    "            item = self.pq[minVal]\n",
    "            del self.pq[minVal]\n",
    "            return item\n",
    "        except IndexError:\n",
    "            print(\"Error\")\n",
    "        \n",
    "    \n",
    "def dijkstra(graph: Graph, source: int):\n",
    "    d = [float(\"inf\") for i in range(graph.size)]\n",
    "    pi = [None for i in range(graph.size)]\n",
    "    S = [0 for i in range(graph.size)]\n",
    "    \n",
    "    if (not (0 <= source < graph.size)):\n",
    "        print(\"err\")\n",
    "        return\n",
    "    \n",
    "    d[source] = 0\n",
    "    \n",
    "    Q = PriorityQueueArray()\n",
    "    for v in range(graph.size):\n",
    "        toInsert = PqElement(d[v], v)\n",
    "        Q.enqueue(toInsert)\n",
    "\n",
    "    while (not Q.isEmpty()):\n",
    "        cheapest = Q.delete()\n",
    "        u = cheapest.node\n",
    "        S[u] = 1\n",
    "        for v in range(len(graph.adjMatrix)):\n",
    "            if (graph.adjMatrix[u][v] and S[v] != 1 and d[v] > d[u] + graph.adjMatrix[u][v]):\n",
    "                for i in range(len(Q.pq)):\n",
    "                    if (Q.pq[i].node == v):\n",
    "                        del Q.pq[i]\n",
    "                        break\n",
    "                d[v] = d[u] + graph.adjMatrix[u][v]\n",
    "                pi[v] = u\n",
    "                \n",
    "                # insert v into Q according to its d[v]\n",
    "                toInsert = PqElement(d[v], v)\n",
    "                Q.enqueue(toInsert)\n",
    "    \n",
    "    return d, pi, S"
   ]
  },
  {
   "cell_type": "markdown",
   "id": "6e011034",
   "metadata": {},
   "source": [
    "Fix V change density of the graph, density - d = e/(v(v-1))  (total edges/edges of complete graph). note that this is a directed graph, so in reality there are 2 * E edges\n",
    "\n",
    "V - number of nodes\n",
    "total_nodes_explored - how many source nodes to consider"
   ]
  },
  {
   "cell_type": "code",
   "execution_count": 29,
   "id": "e38f565b",
   "metadata": {},
   "outputs": [
    {
     "name": "stdout",
     "output_type": "stream",
     "text": [
      "0.1\n",
      "0.2\n",
      "0.30000000000000004\n",
      "0.4\n",
      "0.5\n",
      "0.6\n",
      "0.7000000000000001\n",
      "0.8\n",
      "0.9\n",
      "1.0\n"
     ]
    }
   ],
   "source": [
    "project2a =[]\n",
    "\n",
    "V = 500\n",
    "# E = how many  edges? 0 <= E <= V(V-1), connected V-1 <= E <= V(V-1)\n",
    "\n",
    "for density in np.arange(0.1, 1.1, 0.1):\n",
    "    # number of nodes, number of edges, seed, directed=False\n",
    "    timeTaken = 0\n",
    "    density = float(density)\n",
    "    print(density)\n",
    "    # pick source node from 0 - 30\n",
    "    total_nodes_explored = 10\n",
    "    for source_node in range(0, total_nodes_explored):\n",
    "        E = int(density * (V) * (V-1))\n",
    "        G_temp = nx.gnm_random_graph(V, E, 10, False)\n",
    "        adj_matrix = generateAdjMatrix(G_temp, V) # graph, maximum weight (1-V)\n",
    "        generatedGraph = Graph(V, adj_matrix)\n",
    "        start = timer()\n",
    "        d, pi, S = dijkstra(generatedGraph, source_node)\n",
    "        timeTaken += (timer() - start)*1000 # in ms\n",
    "    project2a.append([V, E, density, timeTaken/total_nodes_explored])"
   ]
  },
  {
   "cell_type": "code",
   "execution_count": 30,
   "id": "4ed09629",
   "metadata": {
    "scrolled": true
   },
   "outputs": [
    {
     "data": {
      "text/plain": [
       "[[500, 24950, 0.1, 131.341282899848],\n",
       " [500, 49900, 0.2, 146.7461837000883],\n",
       " [500, 74850, 0.30000000000000004, 158.51008449990331],\n",
       " [500, 99800, 0.4, 166.1392321006133],\n",
       " [500, 124750, 0.5, 169.59111879987177],\n",
       " [500, 149700, 0.6, 169.31590990006953],\n",
       " [500, 174650, 0.7000000000000001, 170.2034455998728],\n",
       " [500, 199600, 0.8, 170.3317399997104],\n",
       " [500, 224550, 0.9, 172.383441900638],\n",
       " [500, 249500, 1.0, 171.32547329965746]]"
      ]
     },
     "execution_count": 30,
     "metadata": {},
     "output_type": "execute_result"
    }
   ],
   "source": [
    "project2a"
   ]
  },
  {
   "cell_type": "markdown",
   "id": "162ea75c",
   "metadata": {},
   "source": [
    "## Project 2b, using adjacency list and heap"
   ]
  },
  {
   "cell_type": "code",
   "execution_count": 31,
   "id": "bf55c458",
   "metadata": {},
   "outputs": [],
   "source": [
    "def generateAdjList(networkxG, x):\n",
    "    temp = nx.adjacency_matrix(networkxG)\n",
    "#     print(temp)\n",
    "    tempC = temp.tocoo()\n",
    "    size = temp.shape[0]\n",
    "    adjList = [[] for i in range(size)]\n",
    "    for i in range(len(tempC.data)):\n",
    "        row, col = tempC.row[i], tempC.col[i] \n",
    "        randomWeight = random.randint(1,x)\n",
    "        adjList[row].append((col, randomWeight))\n",
    "    return adjList"
   ]
  },
  {
   "cell_type": "code",
   "execution_count": 32,
   "id": "b2b4f92f",
   "metadata": {
    "scrolled": true
   },
   "outputs": [
    {
     "data": {
      "image/png": "[encoded data removed]",
      "text/plain": [
       "<Figure size 432x288 with 1 Axes>"
      ]
     },
     "metadata": {},
     "output_type": "display_data"
    }
   ],
   "source": [
    "# number of nodes, number of edges, seed, directed=False\n",
    "G_temp = nx.gnm_random_graph(5, 6, 10, False)\n",
    "G = G_temp\n",
    "nx.draw(G)"
   ]
  },
  {
   "cell_type": "code",
   "execution_count": 10,
   "id": "ba59c152",
   "metadata": {},
   "outputs": [
    {
     "name": "stdout",
     "output_type": "stream",
     "text": [
      "[[(1, 4), (2, 2), (4, 10)], [(0, 3), (3, 7)], [(0, 9), (3, 3)], [(1, 3), (2, 4), (4, 4)], [(0, 6), (3, 1)]]\n"
     ]
    }
   ],
   "source": [
    "adj_list = generateAdjList(G, 10)\n",
    "print(adj_list)"
   ]
  },
  {
   "cell_type": "markdown",
   "id": "e3da669d",
   "metadata": {},
   "source": [
    "### Implementation"
   ]
  },
  {
   "cell_type": "code",
   "execution_count": 33,
   "id": "a7e86e11",
   "metadata": {},
   "outputs": [],
   "source": [
    "class Graph:\n",
    "    def __init__(self, V, adjList=[]) -> None:\n",
    "        self.size = V\n",
    "        if (adjList == []):\n",
    "            self.adjList = [[] for i in range(V)]\n",
    "        else:\n",
    "            self.adjList = adjList\n",
    "        \n",
    "    def addWeightedEdge(self, v1, v2, weight=1):\n",
    "        if (0 <= v1 < self.size and 0 <= v2 < self.size):\n",
    "            self.adjList[v1].append((v2, weight))\n",
    "            print(f\"vertex {v1} connected to vertex {v2} with weight {weight}\")\n",
    "            return\n",
    "        print(\"Unsucessful\")\n",
    "\n",
    "class PqElement:\n",
    "    def __init__(self, distanceFromSource, node) -> None:\n",
    "        self.node = node\n",
    "        self.distanceFromSource = distanceFromSource\n",
    "        \n",
    "    def __lt__(self, other):\n",
    "        return self.distanceFromSource < other.distanceFromSource\n",
    "\n",
    "    def __repr__(self):\n",
    "        return f'node: {self.node}, distanceFromSource: {self.distanceFromSource}'\n",
    "    \n",
    "def dijkstra(graph: Graph, source: int):\n",
    "    d = [float(\"inf\") for i in range(graph.size)]\n",
    "    pi = [None for i in range(graph.size)]\n",
    "    S = [0 for i in range(graph.size)]\n",
    "    \n",
    "    if (not (0 <= source < graph.size)):\n",
    "        print(\"err\")\n",
    "        return\n",
    "    \n",
    "    d[source] = 0\n",
    "    \n",
    "    Q = []\n",
    "    for v in range(graph.size):\n",
    "        toInsert = PqElement(d[v], v)\n",
    "        heapq.heappush(Q, toInsert)\n",
    "    \n",
    "    while (len(Q)):\n",
    "        cheapest = heapq.heappop(Q) # O(logn)\n",
    "        u = cheapest.node\n",
    "        S[u] = 1\n",
    "        for i in range(len(graph.adjList[u])):\n",
    "            v, weight = graph.adjList[u][i]\n",
    "            if (S[v] != 1 and d[v] > d[u] + weight):\n",
    "                for elem in Q:\n",
    "                    if (elem.node == v):\n",
    "                        Q.remove(elem)\n",
    "                        break\n",
    "                d[v] = d[u] + weight\n",
    "                pi[v] = u\n",
    "                \n",
    "                # insert v into Q according to its d[v]\n",
    "                toInsert = PqElement(d[v], v)\n",
    "                heapq.heappush(Q, toInsert)\n",
    "    \n",
    "    return d, pi, S  "
   ]
  },
  {
   "cell_type": "code",
   "execution_count": 34,
   "id": "f4f61260",
   "metadata": {},
   "outputs": [
    {
     "name": "stdout",
     "output_type": "stream",
     "text": [
      "0.1\n",
      "0.2\n",
      "0.30000000000000004\n",
      "0.4\n",
      "0.5\n",
      "0.6\n",
      "0.7000000000000001\n",
      "0.8\n",
      "0.9\n",
      "1.0\n"
     ]
    }
   ],
   "source": [
    "project2b =[]\n",
    "\n",
    "V = 500\n",
    "# E = how many edges? 0 <= E <= V(V-1), connected V-1 <= E <= V(V-1)\n",
    "\n",
    "for density in np.arange(0.1, 1.1, 0.1):\n",
    "    # number of nodes, number of edges, seed, directed=False\n",
    "    timeTaken = 0\n",
    "    density = float(density)\n",
    "    print(density)\n",
    "    # pick source node from 0 - 30\n",
    "    for source_node in range(0, 10):\n",
    "        E = int(density * (V) * (V-1))\n",
    "        G_temp = nx.gnm_random_graph(V, E, 10, False)\n",
    "        adj_list = generateAdjList(G_temp, V) # graph, maximum weight (1-V)\n",
    "        generatedGraph = Graph(V, adj_list)\n",
    "        start = timer()\n",
    "        d, pi, S = dijkstra(generatedGraph, source_node)\n",
    "        timeTaken += (timer() - start)*1000 # in ms\n",
    "    project2b.append([V, E, density, timeTaken/30])"
   ]
  },
  {
   "cell_type": "code",
   "execution_count": 35,
   "id": "5c84a908",
   "metadata": {},
   "outputs": [
    {
     "data": {
      "text/plain": [
       "[[500, 24950, 0.1, 95.60993853338005],\n",
       " [500, 49900, 0.2, 89.54294236670346],\n",
       " [500, 74850, 0.30000000000000004, 91.39484246661596],\n",
       " [500, 99800, 0.4, 87.61234543338408],\n",
       " [500, 124750, 0.5, 76.06695286655547],\n",
       " [500, 149700, 0.6, 76.24995539990778],\n",
       " [500, 174650, 0.7000000000000001, 76.08508389997344],\n",
       " [500, 199600, 0.8, 76.27316146675487],\n",
       " [500, 224550, 0.9, 76.38408816668137],\n",
       " [500, 249500, 1.0, 76.88651689998854]]"
      ]
     },
     "execution_count": 35,
     "metadata": {},
     "output_type": "execute_result"
    }
   ],
   "source": [
    "project2b"
   ]
  },
  {
   "cell_type": "code",
   "execution_count": null,
   "id": "d2504f1a",
   "metadata": {},
   "outputs": [],
   "source": []
  }
 ],
 "metadata": {
  "kernelspec": {
   "display_name": "Python 3 (ipykernel)",
   "language": "python",
   "name": "python3"
  },
  "language_info": {
   "codemirror_mode": {
    "name": "ipython",
    "version": 3
   },
   "file_extension": ".py",
   "mimetype": "text/x-python",
   "name": "python",
   "nbconvert_exporter": "python",
   "pygments_lexer": "ipython3",
   "version": "3.9.7"
  },
  "vscode": {
   "interpreter": {
    "hash": "8f8cf99212f81ad0c4765861267244807ee1c18364846cdce387b28994a977ba"
   }
  }
 },
 "nbformat": 4,
 "nbformat_minor": 5
}
